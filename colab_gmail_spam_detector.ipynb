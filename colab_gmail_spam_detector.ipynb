
!pip install --upgrade google-auth-oauthlib google-api-python-client groq

# 2. Upload your Google OAuth client secret JSON file
from google.colab import files
uploaded = files.upload()  # Select your client_secret_....json

# 3. Set your Groq API key (replace with your real key, but don't share it publicly!)
import os
os.environ['GROQ_API_KEY'] = "YOUR_GROQ_KEY_HERE"  # <-- Change this

# 4. Main spam detection code
import time
import pickle
import base64
from email import message_from_bytes
from googleapiclient.discovery import build
from google_auth_oauthlib.flow import InstalledAppFlow
from google.auth.transport.requests import Request
import groq

# Groq API setup (read from env var)
groq_api_key = os.environ.get("GROQ_API_KEY")
client = groq.Groq(api_key=groq_api_key)

def detect_spam(message):
    prompt = f"""
You are a spam detection AI. Read the message and classify it as "Spam" or "Not Spam". Then explain the reason in one or two sentences.

Message: "{message}"

Classification:"""
    try:
        response = client.chat.completions.create(
            model="llama3-8b-8192",
            messages=[
                {"role": "system", "content": "You are a helpful assistant that detects spam and explains its reasoning."},
                {"role": "user", "content": prompt}
            ],
            temperature=0,
            max_tokens=100,
        )
        result = response.choices[0].message.content.strip()
        return result
    except Exception as e:
        return f"Error: {e}"

# Gmail API setup
SCOPES = ['https://www.googleapis.com/auth/gmail.readonly']

def gmail_authenticate():
    creds = None
    if os.path.exists('token_colab.pickle'):
        with open('token_colab.pickle', 'rb') as token:
            creds = pickle.load(token)
    if not creds or not creds.valid:
        if creds and creds.expired and creds.refresh_token:
            creds.refresh(Request())
        else:
            # Find the first uploaded .json file
            secret_files = [f for f in os.listdir() if f.endswith('.json')]
            if not secret_files:
                raise FileNotFoundError("OAuth client secret JSON file not found. Please upload it.")
            flow = InstalledAppFlow.from_client_secrets_file(secret_files[0], SCOPES)
            creds = flow.run_console()
        with open('token_colab.pickle', 'wb') as token:
            pickle.dump(creds, token)
    return build('gmail', 'v1', credentials=creds)

def get_latest_emails(service, max_results=5):
    results = service.users().messages().list(userId='me', maxResults=max_results).execute()
    messages = results.get('messages', [])
    emails = []
    for message in messages:
        msg = service.users().messages().get(userId='me', id=message['id'], format='raw').execute()
        msg_bytes = base64.urlsafe_b64decode(msg['raw'].encode('ASCII'))
        mime_msg = message_from_bytes(msg_bytes)
        emails.append({
            "subject": mime_msg.get('subject'),
            "from": mime_msg.get('from'),
            "body": get_body_from_email(mime_msg)
        })
    return emails

def get_body_from_email(mime_msg):
    if mime_msg.is_multipart():
        for part in mime_msg.walk():
            if part.get_content_type() == "text/plain":
                return part.get_payload(decode=True).decode(errors='ignore')
    else:
        return mime_msg.get_payload(decode=True).decode(errors='ignore')
    return ""

# 5. Main loop: checks every 20 seconds, use Runtime > Interrupt Execution to stop
def main():
    service = gmail_authenticate()
    print("Gmail spam detection bot started. Use 'Runtime > Interrupt execution' to stop.\n")
    try:
        while True:
            print(f"\nChecking for new emails at {time.strftime('%Y-%m-%d %H:%M:%S')}...\n")
            emails = get_latest_emails(service)
            for email in emails:
                print(f"From: {email['from']}")
                print(f"Subject: {email['subject']}")
                print("Spam Check:")
                result = detect_spam(email['body'][:2000])  # limit to 2000 chars
                print(result)
                print("="*60)
            print("Waiting 20 seconds before checking again...\n")
            time.sleep(20)
    except KeyboardInterrupt:
        print("\nExiting the spam detection bot.")

main()